{
 "cells": [
  {
   "cell_type": "markdown",
   "id": "8321f896",
   "metadata": {},
   "source": [
    "# (Dataset Exploration Title: BIKE SHARING SYSTEM)\n",
    "## by (Namnso Obot)\n",
    "\n",
    "\n",
    "## Dataset\n",
    "\n",
    "> This data set includes information about individual rides made in a bike-sharing system covering the greater San Francisco Bay area. There are 183,412 rows in the dataset with 16 columns. The features are: duration_sec int64, start_time object, end_time object, start_station_id float64, start_station_name object, start_station_latitude float64, start_station_longitude float64, end_station_id float64\n",
    "\n",
    "\n",
    "## Summary of Findings\n",
    "\n",
    "\n",
    "> The dataset under exploration here is the Fordgobike-Tripdata, that did contained 183412 rows and 16 columns. This data set includes information about individual rides made in a bike-sharing system covering the greater San Francisco Bay area. There are 183,412 rows in the dataset with 16 columns. Some of the features are as follows duration_sec, start_time, end_time object start_station_id, the features conssits of different datatypes such as float, integer, datetime and object. Data wranggling was done to set the dataset into proper format for exploration, some features where dropped, rows with missed were also removed and the right data type conversions were done to get the data ready the exploration. Some of the finding that was descovered from the dataset are as follows:\n",
    "\n",
    "> The membership type figure show that most of the riders are subscriber while only about 9% of the riders are customers.\n",
    "\n",
    "> The riders gender figure clearly show that there are more males riders than the other two combined.\n",
    "\n",
    "> The bike count distribution show from the bike frequency axis that the most used bikes are from 0 to 35 on the bike count axis.\n",
    "\n",
    "> The riders age distribution figure shows most of the riders falls between the age of 20 and 40, this is clear from the age frequency that shows the frequency is above 40,000.\n",
    "\n",
    "\n",
    "\n",
    "## Key Insights for Presentation\n",
    "\n",
    "\n",
    "> The membership type figure show that most of the riders are subscriber while only about 9% of the riders are customers.\n",
    "\n",
    "> The riders gender figure clearly show that there are more males riders than the other two combined.\n",
    "\n",
    "> The bike count distribution show from the bike frequency axis that the most used bikes are from 0 to 35 on the bike count axis.\n",
    "\n",
    "> The riders age distribution figure shows most of the riders falls between the age of 20 and 40, this is clear from the age frequency that shows the frequency is above 40,000.\n",
    "\n",
    "> The graph shows that the most active duration is between 2 to 20 from the duration axis with its highest peak at about 7 which has the count frequency about 14,000.\n",
    "\n",
    "> The relationship between age of the riders and the duration brought out the age group that does most of the duration (time), which brougth to note that riders between 20 to 40 does the most time.\n",
    "\n",
    "> The subscribers user type are about 90% of the riders and they do more time compared to the customer user type that are just 10% of the riders and tend to do shorter time.\n",
    "\n",
    "> The male and female gender have same inter quartile while the other gender have different inter quartile but same mean.\n",
    "\n",
    "\n",
    "## References\n",
    ">* https://stackoverflow.com \n",
    ">* Slack Channel: 03-data-analyst\n",
    ">* https://www.geeksforgeeks.org \n",
    ">* https://www.w3schools.com/\n",
    ">* https://pandas.pydata.org/docs/"
   ]
  },
  {
   "cell_type": "code",
   "execution_count": null,
   "id": "b814d0c6",
   "metadata": {},
   "outputs": [],
   "source": []
  }
 ],
 "metadata": {
  "kernelspec": {
   "display_name": "Python 3 (ipykernel)",
   "language": "python",
   "name": "python3"
  },
  "language_info": {
   "codemirror_mode": {
    "name": "ipython",
    "version": 3
   },
   "file_extension": ".py",
   "mimetype": "text/x-python",
   "name": "python",
   "nbconvert_exporter": "python",
   "pygments_lexer": "ipython3",
   "version": "3.7.13"
  }
 },
 "nbformat": 4,
 "nbformat_minor": 5
}
